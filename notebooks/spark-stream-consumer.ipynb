{
 "cells": [
  {
   "cell_type": "markdown",
   "metadata": {},
   "source": [
    "# Initialization"
   ]
  },
  {
   "cell_type": "code",
   "execution_count": 1,
   "metadata": {},
   "outputs": [],
   "source": [
    "import json\n",
    "import uuid\n",
    "import os\n",
    "from dotenv import load_dotenv\n",
    "from pathlib import Path\n",
    "from kafka import KafkaProducer\n",
    "from faker import Faker\n",
    "from time import sleep"
   ]
  },
  {
   "cell_type": "code",
   "execution_count": 2,
   "metadata": {},
   "outputs": [
    {
     "data": {
      "text/html": [
       "\n",
       "            <div>\n",
       "                <p><b>SparkSession - in-memory</b></p>\n",
       "                \n",
       "        <div>\n",
       "            <p><b>SparkContext</b></p>\n",
       "\n",
       "            <p><a href=\"http://dibimbing-jupyter:4040\">Spark UI</a></p>\n",
       "\n",
       "            <dl>\n",
       "              <dt>Version</dt>\n",
       "                <dd><code>v3.3.2</code></dd>\n",
       "              <dt>Master</dt>\n",
       "                <dd><code>local[*]</code></dd>\n",
       "              <dt>AppName</dt>\n",
       "                <dd><code>Dibimbing Spark-Kafka</code></dd>\n",
       "            </dl>\n",
       "        </div>\n",
       "        \n",
       "            </div>\n",
       "        "
      ],
      "text/plain": [
       "<pyspark.sql.session.SparkSession at 0x7f1b6012a230>"
      ]
     },
     "execution_count": 2,
     "metadata": {},
     "output_type": "execute_result"
    }
   ],
   "source": [
    "from pyspark.sql import SparkSession\n",
    "\n",
    "spark = (\n",
    "    SparkSession \n",
    "    .builder \n",
    "    .appName(\"Dibimbing Spark-Kafka\") \n",
    "    .config(\"spark.streaming.stopGracefullyOnShutdown\", True) \n",
    "    .config('spark.jars.packages', 'org.apache.spark:spark-sql-kafka-0-10_2.12:3.3.2')\n",
    "    .config(\"spark.sql.shuffle.partitions\", 4)\n",
    "    .master(\"local[*]\") \n",
    "    .getOrCreate()\n",
    ")\n",
    "\n",
    "spark"
   ]
  },
  {
   "cell_type": "markdown",
   "metadata": {},
   "source": [
    "# Spark - Kafka Streaming"
   ]
  },
  {
   "cell_type": "code",
   "execution_count": 3,
   "metadata": {},
   "outputs": [
    {
     "data": {
      "text/plain": [
       "True"
      ]
     },
     "execution_count": 3,
     "metadata": {},
     "output_type": "execute_result"
    }
   ],
   "source": [
    "dotenv_path = Path('/resources/.env')\n",
    "load_dotenv(dotenv_path=dotenv_path)"
   ]
  },
  {
   "cell_type": "code",
   "execution_count": 4,
   "metadata": {},
   "outputs": [],
   "source": [
    "kafka_host = os.getenv('KAFKA_HOST')\n",
    "kafka_topic = os.getenv('KAFKA_TOPIC_NAME')\n",
    "kafka_topic_partition = os.getenv('KAFKA_TOPIC_NAME')+\"-1\""
   ]
  },
  {
   "cell_type": "code",
   "execution_count": 5,
   "metadata": {},
   "outputs": [],
   "source": [
    "kafka_df = (\n",
    "    spark\n",
    "    .read\n",
    "    .format(\"kafka\")\n",
    "    .option(\"kafka.bootstrap.servers\", f'{kafka_host}:9092')\n",
    "    .option(\"subscribe\", kafka_topic)\n",
    "    .option(\"startingOffsets\", \"earliest\")\n",
    "    .load()\n",
    ")"
   ]
  },
  {
   "cell_type": "code",
   "execution_count": 6,
   "metadata": {},
   "outputs": [
    {
     "name": "stdout",
     "output_type": "stream",
     "text": [
      "root\n",
      " |-- key: binary (nullable = true)\n",
      " |-- value: binary (nullable = true)\n",
      " |-- topic: string (nullable = true)\n",
      " |-- partition: integer (nullable = true)\n",
      " |-- offset: long (nullable = true)\n",
      " |-- timestamp: timestamp (nullable = true)\n",
      " |-- timestampType: integer (nullable = true)\n",
      "\n"
     ]
    }
   ],
   "source": [
    "kafka_df.printSchema()"
   ]
  },
  {
   "cell_type": "code",
   "execution_count": 7,
   "metadata": {},
   "outputs": [
    {
     "name": "stdout",
     "output_type": "stream",
     "text": [
      "+----+--------------------+--------------------+---------+------+--------------------+-------------+\n",
      "| key|               value|               topic|partition|offset|           timestamp|timestampType|\n",
      "+----+--------------------+--------------------+---------+------+--------------------+-------------+\n",
      "|null|[7B 22 74 72 61 6...|streaming-assignm...|        0|     0|2025-01-26 08:21:...|            0|\n",
      "|null|[7B 22 74 72 61 6...|streaming-assignm...|        0|     1|2025-01-26 08:21:...|            0|\n",
      "|null|[7B 22 74 72 61 6...|streaming-assignm...|        0|     2|2025-01-26 08:21:...|            0|\n",
      "|null|[7B 22 74 72 61 6...|streaming-assignm...|        0|     3|2025-01-26 08:21:...|            0|\n",
      "|null|[7B 22 74 72 61 6...|streaming-assignm...|        0|     4|2025-01-26 08:21:...|            0|\n",
      "|null|[7B 22 74 72 61 6...|streaming-assignm...|        0|     5|2025-01-26 08:21:...|            0|\n",
      "|null|[7B 22 74 72 61 6...|streaming-assignm...|        0|     6|2025-01-26 08:21:...|            0|\n",
      "|null|[7B 22 74 72 61 6...|streaming-assignm...|        0|     7|2025-01-26 08:21:...|            0|\n",
      "|null|[7B 22 74 72 61 6...|streaming-assignm...|        0|     8|2025-01-26 08:21:...|            0|\n",
      "|null|[7B 22 74 72 61 6...|streaming-assignm...|        0|     9|2025-01-26 08:21:...|            0|\n",
      "|null|[7B 22 74 72 61 6...|streaming-assignm...|        0|    10|2025-01-26 08:21:...|            0|\n",
      "|null|[7B 22 74 72 61 6...|streaming-assignm...|        0|    11|2025-01-26 08:21:...|            0|\n",
      "|null|[7B 22 74 72 61 6...|streaming-assignm...|        0|    12|2025-01-26 08:21:...|            0|\n",
      "|null|[7B 22 74 72 61 6...|streaming-assignm...|        0|    13|2025-01-26 08:21:...|            0|\n",
      "|null|[7B 22 74 72 61 6...|streaming-assignm...|        0|    14|2025-01-26 08:21:...|            0|\n",
      "|null|[7B 22 74 72 61 6...|streaming-assignm...|        0|    15|2025-01-26 08:21:...|            0|\n",
      "|null|[7B 22 74 72 61 6...|streaming-assignm...|        0|    16|2025-01-26 08:21:...|            0|\n",
      "|null|[7B 22 74 72 61 6...|streaming-assignm...|        0|    17|2025-01-26 08:21:...|            0|\n",
      "|null|[7B 22 74 72 61 6...|streaming-assignm...|        0|    18|2025-01-26 08:21:...|            0|\n",
      "|null|[7B 22 74 72 61 6...|streaming-assignm...|        0|    19|2025-01-26 08:21:...|            0|\n",
      "+----+--------------------+--------------------+---------+------+--------------------+-------------+\n",
      "only showing top 20 rows\n",
      "\n"
     ]
    }
   ],
   "source": [
    "kafka_df.show()"
   ]
  },
  {
   "cell_type": "code",
   "execution_count": 8,
   "metadata": {},
   "outputs": [],
   "source": [
    "from pyspark.sql.types import StructType, StructField, StringType, IntegerType, LongType,TimestampType\n",
    "\n",
    "\n",
    "schema = StructType([\n",
    "    StructField(\"transaction_id\", StringType(), True),\n",
    "    StructField(\"customer_name\", StringType(), True),\n",
    "    StructField(\"store_name\", StringType(), True),\n",
    "    StructField(\"location\", StringType(), True),\n",
    "    StructField(\"product_type\", StringType(), True),\n",
    "    StructField(\"product_model\", StringType(), True),\n",
    "    StructField(\"payment\", StringType(), True),\n",
    "    StructField(\"merchant\", StringType(), True),\n",
    "    StructField(\"quantity\", IntegerType(), True),\n",
    "    StructField(\"unit_price\", IntegerType(), True),\n",
    "    StructField(\"total_price\", IntegerType(), True),\n",
    "    StructField(\"transaction_date\", StringType(), True),\n",
    "    StructField(\"ts\", TimestampType(), True),\n",
    "])\n"
   ]
  },
  {
   "cell_type": "markdown",
   "metadata": {},
   "source": [
    "## Stream Simulation"
   ]
  },
  {
   "cell_type": "code",
   "execution_count": 9,
   "metadata": {},
   "outputs": [],
   "source": [
    "kafka_df = (\n",
    "    spark\n",
    "    .readStream\n",
    "    .format(\"kafka\")\n",
    "    .option(\"kafka.bootstrap.servers\", f'{kafka_host}:9092')\n",
    "    .option(\"subscribe\", kafka_topic)\n",
    "    .option(\"startingOffsets\", \"earliest\")\n",
    "    .load()\n",
    ")"
   ]
  },
  {
   "cell_type": "code",
   "execution_count": 10,
   "metadata": {},
   "outputs": [
    {
     "name": "stdout",
     "output_type": "stream",
     "text": [
      "root\n",
      " |-- transaction_id: string (nullable = true)\n",
      " |-- customer_name: string (nullable = true)\n",
      " |-- store_name: string (nullable = true)\n",
      " |-- location: string (nullable = true)\n",
      " |-- product_type: string (nullable = true)\n",
      " |-- product_model: string (nullable = true)\n",
      " |-- payment: string (nullable = true)\n",
      " |-- merchant: string (nullable = true)\n",
      " |-- quantity: integer (nullable = true)\n",
      " |-- unit_price: integer (nullable = true)\n",
      " |-- total_price: integer (nullable = true)\n",
      " |-- transaction_date: string (nullable = true)\n",
      " |-- ts: timestamp (nullable = true)\n",
      "\n"
     ]
    }
   ],
   "source": [
    "from pyspark.sql.functions import from_json, col, expr\n",
    "\n",
    "parsed_df = (\n",
    "    kafka_df\n",
    "    .withColumn(\"value\", expr(\"cast(value as string)\"))\n",
    "    .select(\n",
    "        from_json(col(\"value\"), schema)\n",
    "        .alias(\"data\")\n",
    "    )\n",
    "    .select(\"data.*\")\n",
    ")\n",
    "\n",
    "parsed_df.printSchema()"
   ]
  },
  {
   "cell_type": "code",
   "execution_count": 11,
   "metadata": {
    "tags": []
   },
   "outputs": [],
   "source": [
    "from pyspark.sql import functions as F\n",
    "from pyspark.sql.types import StructType, StructField, StringType, IntegerType\n",
    "from pyspark.sql.functions import to_timestamp, window\n",
    "from pyspark.sql.window import Window\n",
    "\n",
    "parsed_df_with_watermark = parsed_df.withWatermark(\"ts\", \"60 minutes\")\n",
    "\n",
    "aggregated_df = parsed_df_with_watermark.groupBy(\n",
    "        window(\"ts\", \"5 minute\")  # 5 menit adalah interval waktu untuk window\n",
    "    ) \\\n",
    "    .agg(\n",
    "        F.sum(\"total_price\").alias(\"total_sales\")  # Agregasi sum dari total_price\n",
    "    ) \\\n",
    "    .select(\n",
    "        \"window.start\", \"window.end\", \"total_sales\"\n",
    "    )"
   ]
  },
  {
   "cell_type": "code",
   "execution_count": 12,
   "metadata": {
    "tags": []
   },
   "outputs": [],
   "source": [
    "checkpoint_location = '/tmp/spark/checkpoints'"
   ]
  },
  {
   "cell_type": "code",
   "execution_count": null,
   "metadata": {
    "tags": []
   },
   "outputs": [],
   "source": [
    "# Tampilkan hasil di console (output mode complete)\n",
    "query = (\n",
    "    aggregated_df.writeStream\n",
    "    .outputMode(\"complete\")  # Gunakan \"complete\" untuk agregasi\n",
    "    .format(\"console\")  # Menampilkan hasil ke console\n",
    "    .trigger(processingTime=\"5 minutes\")  # Men-trigger event setiap 5 menit\n",
    "    .option(\"checkpointLocation\", checkpoint_location)  # Lokasi checkpoint\n",
    "    # .option(\"failOnDataLoss\", \"false\") \n",
    "    .start()\n",
    ")\n",
    "\n",
    "# Menunggu stream untuk berjalan\n",
    "query.awaitTermination()"
   ]
  }
 ],
 "metadata": {
  "kernelspec": {
   "display_name": "Python 3 (ipykernel)",
   "language": "python",
   "name": "python3"
  },
  "language_info": {
   "codemirror_mode": {
    "name": "ipython",
    "version": 3
   },
   "file_extension": ".py",
   "mimetype": "text/x-python",
   "name": "python",
   "nbconvert_exporter": "python",
   "pygments_lexer": "ipython3",
   "version": "3.10.10"
  }
 },
 "nbformat": 4,
 "nbformat_minor": 4
}
