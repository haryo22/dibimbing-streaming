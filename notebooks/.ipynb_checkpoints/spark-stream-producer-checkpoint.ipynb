{
 "cells": [
  {
   "cell_type": "code",
   "execution_count": null,
   "metadata": {},
   "outputs": [],
   "source": [
    "import json\n",
    "import uuid\n",
    "import os\n",
    "from dotenv import load_dotenv\n",
    "from pathlib import Path\n",
    "from kafka import KafkaProducer\n",
    "from faker import Faker\n",
    "from time import sleep"
   ]
  },
  {
   "cell_type": "code",
   "execution_count": null,
   "metadata": {},
   "outputs": [],
   "source": [
    "dotenv_path = Path('/resources/.env')\n",
    "load_dotenv(dotenv_path=dotenv_path)"
   ]
  },
  {
   "cell_type": "code",
   "execution_count": null,
   "metadata": {},
   "outputs": [],
   "source": [
    "kafka_host = os.getenv('KAFKA_HOST')\n",
    "kafka_topic = os.getenv('KAFKA_TOPIC_NAME')\n",
    "kafka_topic_partition = os.getenv('KAFKA_TOPIC_NAME')\n",
    "\n",
    "print(kafka_host)\n",
    "print(kafka_topic)\n",
    "print(kafka_topic_partition)"
   ]
  },
  {
   "cell_type": "code",
   "execution_count": null,
   "metadata": {},
   "outputs": [],
   "source": [
    "producer = KafkaProducer(bootstrap_servers=f'{kafka_host}:9092')"
   ]
  },
  {
   "cell_type": "code",
   "execution_count": null,
   "metadata": {},
   "outputs": [],
   "source": [
    "_instance = Faker()\n",
    "global faker\n",
    "faker = Faker()"
   ]
  },
  {
   "cell_type": "code",
   "execution_count": null,
   "metadata": {},
   "outputs": [
    {
     "ename": "",
     "evalue": "",
     "output_type": "error",
     "traceback": [
      "\u001b[1;31mRunning cells with 'Python 3.11.9' requires the ipykernel package.\n",
      "\u001b[1;31mRun the following command to install 'ipykernel' into the Python environment. \n",
      "\u001b[1;31mCommand: 'c:/Users/haryo.wibowo/AppData/Local/Microsoft/WindowsApps/python3.11.exe -m pip install ipykernel -U --user --force-reinstall'"
     ]
    }
   ],
   "source": [
    "from datetime import datetime, timedelta\n",
    "class DataGenerator(object):\n",
    "    @staticmethod\n",
    "    def get_data():\n",
    "        quality = faker.random_int(min=1, max=20)\n",
    "        unit_price = faker.random_int(min=100000, max=1000000)\n",
    "        total_price = quality * unit_price\n",
    "\n",
    "        transaction_date = faker.date_this_year().strftime('%Y-%m-%d')\n",
    "        now = datetime.now()\n",
    "\n",
    "        return [\n",
    "            uuid.uuid4().__str__(),\n",
    "            faker.name(),\n",
    "            faker.random_element(elements=('Toko Mainan Pokemon Jakarta', 'Pokemon Shop Surabaya', 'Pokemon Toys Yogyakarta', 'Mainan Pokemon Bandung', 'Pokemon Collector Semarang')),\n",
    "            faker.random_element(elements=('Jakarta', 'Surabaya', 'Bandung', 'Yogyakarta', 'Semarang', 'Medan', 'Makassar')),\n",
    "            faker.random_element(elements=('Kartu Pokemon', 'Action Figure Pikachu', 'Pokemon Plush', 'Pokemon Ball', 'Mainan Pokemon Model')),\n",
    "            faker.random_element(elements=('Kartu Pokemon Base Set', 'Pokemon Sword & Shield', 'Eevee Plush', 'Pikachu Action Figure', 'Poké Ball Replica')),\n",
    "            faker.random_element(elements=('Cash', 'Credit Card', 'Debit Card', 'QRIS', 'Transfer')),\n",
    "            faker.random_element(elements=('Blibli', 'Offline', 'Lazada', 'Shopee', 'Tokopedia')),\n",
    "            quality,\n",
    "            unit_price,\n",
    "            total_price,\n",
    "            transaction_date,\n",
    "            faker.unix_time(\n",
    "                start_datetime=now - timedelta(minutes=60), end_datetime=now\n",
    "            ),\n",
    "        ]"
   ]
  },
  {
   "cell_type": "code",
   "execution_count": null,
   "metadata": {},
   "outputs": [],
   "source": [
    "for i in range(1, 200):\n",
    "    columns = [\"transaction_id\", \"customer_name\", \"store_name\", \"location\", \"product_type\", \"product_model\", \"payment\", \"merchant\", \"quantity\", \"unit_price\", \"total_price\", \"transaction_date\", \"ts\"]\n",
    "    data_list = DataGenerator.get_data()\n",
    "    json_data = dict(zip(columns, data_list))\n",
    "    _payload = json.dumps(json_data).encode(\"utf-8\")\n",
    "    response = producer.send(topic=kafka_topic_partition, value=_payload)\n",
    "    print(json_data['transaction_id'], response.get())\n",
    "\n",
    "sleep(5)"
   ]
  }
 ],
 "metadata": {
  "kernelspec": {
   "display_name": "Python 3",
   "language": "python",
   "name": "python3"
  },
  "language_info": {
   "name": "python",
   "version": "3.11.9"
  }
 },
 "nbformat": 4,
 "nbformat_minor": 2
}
